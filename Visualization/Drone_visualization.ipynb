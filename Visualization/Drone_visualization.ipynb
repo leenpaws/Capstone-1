{
 "cells": [
  {
   "cell_type": "markdown",
   "metadata": {},
   "source": [
    "LOAD ALL FILES INTO INDIVIDUAL DATA FRAMES AND LOOK FOR COMMONALITIES"
   ]
  },
  {
   "cell_type": "code",
   "execution_count": 1,
   "metadata": {
    "collapsed": true
   },
   "outputs": [],
   "source": [
    "import pandas as pd\n",
    "import numpy as np\n",
    "%matplotlib inline\n",
    "import sys\n",
    "import pandas as pd\n",
    "import numpy as np\n",
    "import matplotlib.pyplot as plt\n",
    "import bokeh.plotting as bkp\n",
    "import json\n",
    "from pandas.io.json import json_normalize\n",
    "import os.path"
   ]
  },
  {
   "cell_type": "markdown",
   "metadata": {},
   "source": [
    "LOAD ALL FILES INTO INDIVIDUAL DATA FRAMES AND LOOK FOR COMMONALITIES"
   ]
  },
  {
   "cell_type": "code",
   "execution_count": 2,
   "metadata": {
    "collapsed": true
   },
   "outputs": [],
   "source": [
    "#os.path.join\n",
    "clean_dir = '/home/skultra/Springboard/Code/Capstone-1/Drone_Data/Clean_CSV'"
   ]
  },
  {
   "cell_type": "code",
   "execution_count": 3,
   "metadata": {
    "collapsed": true
   },
   "outputs": [],
   "source": [
    "us_yemen_path = os.path.join(clean_dir, 'US_Yemen_updated.csv')\n",
    "cia_pakistan_path = os.path.join(clean_dir, 'CIA_Pakistan_updated.csv')\n",
    "us_somalia_path = os.path.join(clean_dir, 'US_Somalia_updated.csv')\n",
    "us_afghanistan_path = os.path.join(clean_dir, 'US_Afghanistan_Data.csv')"
   ]
  },
  {
   "cell_type": "code",
   "execution_count": 4,
   "metadata": {
    "collapsed": true
   },
   "outputs": [],
   "source": [
    "#CIA_Pakistan_clean_data\n",
    "pakistan = pd.read_csv(cia_pakistan_path)\n",
    "#US_Somalia_clean_data \n",
    "somalia = pd.read_csv(us_somalia_path)\n",
    "#US_Yemen_clean_data \n",
    "yemen = _data = pd.read_csv(us_yemen_path)\n",
    "#US_Afghanistan_clean_data \n",
    "afghanistan = pd.read_csv(us_afghanistan_path)"
   ]
  },
  {
   "cell_type": "code",
   "execution_count": 5,
   "metadata": {},
   "outputs": [
    {
     "name": "stdout",
     "output_type": "stream",
     "text": [
      "(442, 26)\n",
      "(299, 21)\n",
      "(86, 20)\n",
      "(430, 15)\n"
     ]
    }
   ],
   "source": [
    "frames = [afghanistan, yemen, somalia, pakistan]\n",
    "master_frame = pd.concat(frames)\n",
    "for frame in frames:\n",
    "    print(frame.shape)"
   ]
  },
  {
   "cell_type": "code",
   "execution_count": 6,
   "metadata": {
    "scrolled": true
   },
   "outputs": [
    {
     "name": "stdout",
     "output_type": "stream",
     "text": [
      "<class 'pandas.core.frame.DataFrame'>\n",
      "Int64Index: 1257 entries, 0 to 429\n",
      "Data columns (total 30 columns):\n",
      "Air strike?                                                   385 non-null float64\n",
      "Area                                                          430 non-null object\n",
      "Counter-\n",
      "terrorism, force protection or strategic effects?    442 non-null object\n",
      "Date                                                          1257 non-null object\n",
      "Drone strike                                                  827 non-null float64\n",
      "Index                                                         1257 non-null int64\n",
      "Location                                                      1256 non-null object\n",
      "Maximum children killed                                       1257 non-null int64\n",
      "Maximum civilians killed                                      1257 non-null int64\n",
      "Maximum number of strikes                                     299 non-null float64\n",
      "Maximum people injured                                        1257 non-null int64\n",
      "Maximum people killed                                         1257 non-null int64\n",
      "Maximum strikes                                               528 non-null float64\n",
      "Minimum children killed                                       1257 non-null int64\n",
      "Minimum civilians killed                                      1257 non-null int64\n",
      "Minimum number of strikes                                     299 non-null float64\n",
      "Minimum people injured                                        1257 non-null int64\n",
      "Minimum people killed                                         1257 non-null int64\n",
      "Minimum strikes                                               528 non-null float64\n",
      "Province                                                      741 non-null object\n",
      "Reported target group?                                        442 non-null object\n",
      "Reported target type                                          442 non-null object\n",
      "Strike ID                                                     1257 non-null object\n",
      "Strike link                                                   1066 non-null object\n",
      "Time                                                          442 non-null object\n",
      "Type of attack                                                827 non-null object\n",
      "US confirmed?                                                 827 non-null object\n",
      "US only source?                                               442 non-null float64\n",
      "Unnamed: 0                                                    1257 non-null int64\n",
      "Village/local area                                            442 non-null object\n",
      "dtypes: float64(7), int64(10), object(13)\n",
      "memory usage: 304.4+ KB\n"
     ]
    }
   ],
   "source": [
    "#MasterFrame.columns\n",
    "#MasterFrame.shape\n",
    "master_frame.info()\n",
    "\n"
   ]
  },
  {
   "cell_type": "markdown",
   "metadata": {},
   "source": [
    "LOAD JSON FILE CREATED FROM CIA TWITTER FEED"
   ]
  },
  {
   "cell_type": "code",
   "execution_count": 7,
   "metadata": {
    "collapsed": true
   },
   "outputs": [],
   "source": [
    "#with keyword automatically closes file at the end\n",
    "with open('/home/skultra/Springboard/Code/Capstone-1/Drone_Data/Drone_Data.json') as f:\n",
    "    twitter_drone = json.load(f)\n",
    "twitter_drone.keys()\n",
    "    \n",
    "#JSON_DF_stats['status'] = pd.DataFrame(twitter_drone)\n",
    "JSON_DF_stats = pd.DataFrame(twitter_drone['strike'])\n",
    "# remove all the columns, that are not common\n",
    "# combine all the data frames into one\n",
    "# look at pandas documentation, combine things into one big data frame\n",
    "# do same for both sets of data, get 2 clean dataframes, "
   ]
  },
  {
   "cell_type": "code",
   "execution_count": 8,
   "metadata": {},
   "outputs": [
    {
     "data": {
      "text/html": [
       "<div>\n",
       "<style>\n",
       "    .dataframe thead tr:only-child th {\n",
       "        text-align: right;\n",
       "    }\n",
       "\n",
       "    .dataframe thead th {\n",
       "        text-align: left;\n",
       "    }\n",
       "\n",
       "    .dataframe tbody tr th {\n",
       "        vertical-align: top;\n",
       "    }\n",
       "</style>\n",
       "<table border=\"1\" class=\"dataframe\">\n",
       "  <thead>\n",
       "    <tr style=\"text-align: right;\">\n",
       "      <th></th>\n",
       "      <th>_id</th>\n",
       "      <th>articles</th>\n",
       "      <th>bij_link</th>\n",
       "      <th>bij_summary_short</th>\n",
       "      <th>bureau_id</th>\n",
       "      <th>children</th>\n",
       "      <th>civilians</th>\n",
       "      <th>country</th>\n",
       "      <th>date</th>\n",
       "      <th>deaths</th>\n",
       "      <th>...</th>\n",
       "      <th>injuries</th>\n",
       "      <th>lat</th>\n",
       "      <th>location</th>\n",
       "      <th>lon</th>\n",
       "      <th>names</th>\n",
       "      <th>narrative</th>\n",
       "      <th>number</th>\n",
       "      <th>target</th>\n",
       "      <th>town</th>\n",
       "      <th>tweet_id</th>\n",
       "    </tr>\n",
       "  </thead>\n",
       "  <tbody>\n",
       "    <tr>\n",
       "      <th>0</th>\n",
       "      <td>55c79e711cbee48856a30886</td>\n",
       "      <td>[]</td>\n",
       "      <td>http://www.thebureauinvestigates.com/2012/03/2...</td>\n",
       "      <td>In the first known US targeted assassination u...</td>\n",
       "      <td>YEM001</td>\n",
       "      <td></td>\n",
       "      <td>0</td>\n",
       "      <td>Yemen</td>\n",
       "      <td>2002-11-03T00:00:00.000Z</td>\n",
       "      <td>6</td>\n",
       "      <td>...</td>\n",
       "      <td></td>\n",
       "      <td>15.47467</td>\n",
       "      <td>Marib Province</td>\n",
       "      <td>45.322755</td>\n",
       "      <td>[Qa'id Salim Sinan al-Harithi, Abu Ahmad al-Hi...</td>\n",
       "      <td>In the first known US targeted assassination u...</td>\n",
       "      <td>1</td>\n",
       "      <td></td>\n",
       "      <td></td>\n",
       "      <td>278544689483890688</td>\n",
       "    </tr>\n",
       "    <tr>\n",
       "      <th>1</th>\n",
       "      <td>55c79e711cbee48856a30887</td>\n",
       "      <td>[]</td>\n",
       "      <td>http://www.thebureauinvestigates.com/2011/08/1...</td>\n",
       "      <td>First known drone strike in Pakistan kills at ...</td>\n",
       "      <td>B1</td>\n",
       "      <td>2</td>\n",
       "      <td>2</td>\n",
       "      <td>Pakistan</td>\n",
       "      <td>2004-06-17T00:00:00.000Z</td>\n",
       "      <td>6-8</td>\n",
       "      <td>...</td>\n",
       "      <td>1</td>\n",
       "      <td>32.30512565</td>\n",
       "      <td>South Waziristan</td>\n",
       "      <td>69.57624435</td>\n",
       "      <td>[Nek Mohammad, Fakhar Zaman, Azmat Khan, Marez...</td>\n",
       "      <td>The first known fatal US drone strike inside P...</td>\n",
       "      <td>2</td>\n",
       "      <td>Nek Mohammed</td>\n",
       "      <td>Wana</td>\n",
       "      <td>278544750867533824</td>\n",
       "    </tr>\n",
       "    <tr>\n",
       "      <th>2</th>\n",
       "      <td>55c79e711cbee48856a30888</td>\n",
       "      <td>[]</td>\n",
       "      <td>http://www.thebureauinvestigates.com/2011/08/1...</td>\n",
       "      <td>Two killed, including Haitham al-Yemeni an al ...</td>\n",
       "      <td>B2</td>\n",
       "      <td></td>\n",
       "      <td></td>\n",
       "      <td>Pakistan</td>\n",
       "      <td>2005-05-08T00:00:00.000Z</td>\n",
       "      <td>2</td>\n",
       "      <td>...</td>\n",
       "      <td></td>\n",
       "      <td>32.98677989</td>\n",
       "      <td>North Waziristan</td>\n",
       "      <td>70.26082993</td>\n",
       "      <td>[Haitham al-Yemeni, Samiullah Khan]</td>\n",
       "      <td>2 people killed in a Predator strike which rep...</td>\n",
       "      <td>3</td>\n",
       "      <td>Haitham al-Yemeni</td>\n",
       "      <td>Toorikhel</td>\n",
       "      <td>278544812255367168</td>\n",
       "    </tr>\n",
       "  </tbody>\n",
       "</table>\n",
       "<p>3 rows × 22 columns</p>\n",
       "</div>"
      ],
      "text/plain": [
       "                        _id articles  \\\n",
       "0  55c79e711cbee48856a30886       []   \n",
       "1  55c79e711cbee48856a30887       []   \n",
       "2  55c79e711cbee48856a30888       []   \n",
       "\n",
       "                                            bij_link  \\\n",
       "0  http://www.thebureauinvestigates.com/2012/03/2...   \n",
       "1  http://www.thebureauinvestigates.com/2011/08/1...   \n",
       "2  http://www.thebureauinvestigates.com/2011/08/1...   \n",
       "\n",
       "                                   bij_summary_short bureau_id children  \\\n",
       "0  In the first known US targeted assassination u...    YEM001            \n",
       "1  First known drone strike in Pakistan kills at ...        B1        2   \n",
       "2  Two killed, including Haitham al-Yemeni an al ...        B2            \n",
       "\n",
       "  civilians   country                      date deaths         ...          \\\n",
       "0         0     Yemen  2002-11-03T00:00:00.000Z      6         ...           \n",
       "1         2  Pakistan  2004-06-17T00:00:00.000Z    6-8         ...           \n",
       "2            Pakistan  2005-05-08T00:00:00.000Z      2         ...           \n",
       "\n",
       "  injuries          lat          location          lon  \\\n",
       "0              15.47467    Marib Province    45.322755   \n",
       "1        1  32.30512565  South Waziristan  69.57624435   \n",
       "2           32.98677989  North Waziristan  70.26082993   \n",
       "\n",
       "                                               names  \\\n",
       "0  [Qa'id Salim Sinan al-Harithi, Abu Ahmad al-Hi...   \n",
       "1  [Nek Mohammad, Fakhar Zaman, Azmat Khan, Marez...   \n",
       "2                [Haitham al-Yemeni, Samiullah Khan]   \n",
       "\n",
       "                                           narrative number  \\\n",
       "0  In the first known US targeted assassination u...      1   \n",
       "1  The first known fatal US drone strike inside P...      2   \n",
       "2  2 people killed in a Predator strike which rep...      3   \n",
       "\n",
       "              target       town            tweet_id  \n",
       "0                                278544689483890688  \n",
       "1       Nek Mohammed       Wana  278544750867533824  \n",
       "2  Haitham al-Yemeni  Toorikhel  278544812255367168  \n",
       "\n",
       "[3 rows x 22 columns]"
      ]
     },
     "execution_count": 8,
     "metadata": {},
     "output_type": "execute_result"
    }
   ],
   "source": [
    "#twitter_drone_data_strike = pd.DataFrame(twitter_drone['strike'])\n",
    "JSON_DF_stats.head(3)\n"
   ]
  },
  {
   "cell_type": "code",
   "execution_count": 26,
   "metadata": {},
   "outputs": [
    {
     "data": {
      "image/png": "[encoded data removed]",
      "text/plain": [
       "<matplotlib.figure.Figure at 0x7f31c9aa16d8>"
      ]
     },
     "metadata": {},
     "output_type": "display_data"
    },
    {
     "data": {
      "image/png": "[encoded data removed]",
      "text/plain": [
       "<matplotlib.figure.Figure at 0x7f31ca951eb8>"
      ]
     },
     "metadata": {},
     "output_type": "display_data"
    },
    {
     "data": {
      "image/png": "[encoded data removed]",
      "text/plain": [
       "<matplotlib.figure.Figure at 0x7f31ca1bb7b8>"
      ]
     },
     "metadata": {},
     "output_type": "display_data"
    },
    {
     "data": {
      "image/png": "[encoded data removed]",
      "text/plain": [
       "<matplotlib.figure.Figure at 0x7f31ca167a20>"
      ]
     },
     "metadata": {},
     "output_type": "display_data"
    }
   ],
   "source": [
    "#Count something interesting\n",
    "# of civilian deaths per AO\n",
    "for frame in frames:\n",
    "    cols = [('Minimum civilians killed'), ('Maximum civilians killed')]    \n",
    "    frame[cols].sum().plot.bar()\n",
    "    plt.show()\n",
    "\n"
   ]
  },
  {
   "cell_type": "code",
   "execution_count": null,
   "metadata": {
    "collapsed": true
   },
   "outputs": [],
   "source": [
    "for frame in frames:\n",
    "    "
   ]
  },
  {
   "cell_type": "code",
   "execution_count": null,
   "metadata": {
    "collapsed": true
   },
   "outputs": [],
   "source": []
  },
  {
   "cell_type": "code",
   "execution_count": null,
   "metadata": {
    "collapsed": true
   },
   "outputs": [],
   "source": []
  },
  {
   "cell_type": "code",
   "execution_count": null,
   "metadata": {
    "collapsed": true
   },
   "outputs": [],
   "source": []
  },
  {
   "cell_type": "code",
   "execution_count": null,
   "metadata": {
    "collapsed": true
   },
   "outputs": [],
   "source": []
  },
  {
   "cell_type": "code",
   "execution_count": null,
   "metadata": {
    "collapsed": true
   },
   "outputs": [],
   "source": []
  },
  {
   "cell_type": "code",
   "execution_count": null,
   "metadata": {
    "collapsed": true
   },
   "outputs": [],
   "source": []
  },
  {
   "cell_type": "code",
   "execution_count": null,
   "metadata": {
    "collapsed": true
   },
   "outputs": [],
   "source": []
  }
 ],
 "metadata": {
  "kernelspec": {
   "display_name": "Python 3",
   "language": "python",
   "name": "python3"
  },
  "language_info": {
   "codemirror_mode": {
    "name": "ipython",
    "version": 3
   },
   "file_extension": ".py",
   "mimetype": "text/x-python",
   "name": "python",
   "nbconvert_exporter": "python",
   "pygments_lexer": "ipython3",
   "version": "3.6.3"
  }
 },
 "nbformat": 4,
 "nbformat_minor": 1
}
