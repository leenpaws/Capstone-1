{
 "cells": [
  {
   "cell_type": "markdown",
   "metadata": {},
   "source": [
    "LOAD ALL FILES INTO INDIVIDUAL DATA FRAMES AND LOOK FOR COMMONALITIES"
   ]
  },
  {
   "cell_type": "code",
   "execution_count": 53,
   "metadata": {
    "collapsed": true
   },
   "outputs": [],
   "source": [
    "import pandas as pd\n",
    "import numpy as np\n",
    "%matplotlib inline\n",
    "import sys\n",
    "import pandas as pd\n",
    "import numpy as np\n",
    "import matplotlib.pyplot as plt\n",
    "import bokeh.plotting as bkp\n",
    "import json\n",
    "from pandas.io.json import json_normalize"
   ]
  },
  {
   "cell_type": "markdown",
   "metadata": {},
   "source": [
    "LOAD ALL FILES INTO INDIVIDUAL DATA FRAMES AND LOOK FOR COMMONALITIES"
   ]
  },
  {
   "cell_type": "code",
   "execution_count": 54,
   "metadata": {},
   "outputs": [],
   "source": [
    "CIA_Pakistan_csv = open('Drone_Data/Raw_CSV/CIA and US military drone strikes in Pakistan, 2004 to present - '\n",
    "                        'Drone strikes data.csv', mode='r')\n",
    "US_Somalia_csv = open('Drone_Data/Raw_CSV/US strikes in Somalia, 2007 to present - All US actions.csv', mode='r')\n",
    "US_Yemen_csv = open('Drone_Data/Raw_CSV/US strikes in Yemen, 2002 to present - All US actions.csv', mode='r')\n",
    "US_Afghanistan_csv = open('Drone_Data/Raw_CSV/Afghanistan_ US air and drone strikes, 2015 to present - '\n",
    "                          'Bureau data_ US strikes.csv', mode='r')"
   ]
  },
  {
   "cell_type": "code",
   "execution_count": 55,
   "metadata": {},
   "outputs": [],
   "source": [
    "CIA_Pakistan_data = pd.read_csv(CIA_Pakistan_csv)\n",
    "US_Somalia_data = pd.read_csv(US_Somalia_csv)\n",
    "US_Yemen_data = _data = pd.read_csv(US_Yemen_csv)\n",
    "US_Afghanistan_data = pd.read_csv(US_Afghanistan_csv)"
   ]
  },
  {
   "cell_type": "code",
   "execution_count": 56,
   "metadata": {},
   "outputs": [
    {
     "name": "stdout",
     "output_type": "stream",
     "text": [
      "(430, 15) (86, 20) (299, 21) (442, 26)\n"
     ]
    }
   ],
   "source": [
    "print(CIA_Pakistan_data.shape,US_Somalia_data.shape,US_Yemen_data.shape,US_Afghanistan_data.shape)"
   ]
  },
  {
   "cell_type": "code",
   "execution_count": 95,
   "metadata": {
    "collapsed": true
   },
   "outputs": [
    {
     "data": {
      "text/plain": [
       "Index(['Strike ID', 'Date', 'Location', 'Area', 'Minimum total people killed',\n       'Maximum total people killed', 'Minimum civilians reported killed',\n       'Maximum civilians reported killed', 'Minimum children reported killed',\n       'Maximum children reported killed', 'Minimum reported injured',\n       'Maximum reported injured', 'Strike link', 'Index'],\n      dtype='object')"
      ]
     },
     "execution_count": 95,
     "metadata": {},
     "output_type": "execute_result"
    }
   ],
   "source": [
    "CIA_Pakistan_data.columns\n",
    "CIA_Pakistan_data['Unnamed: 13'][0:3]\n",
    "CIA_Pakistan_data_updated = CIA_Pakistan_data.drop('Unnamed: 13', 1)\n",
    "CIA_Pakistan_data_updated.columns\n",
    "CIA_Pakistan_data_updated.to_csv('Drone_Data/Clean_CSV/CIA_Pakistan_updated.csv')\n",
    "CIA_Pakistan_data_updated.columns"
   ]
  },
  {
   "cell_type": "code",
   "execution_count": 92,
   "metadata": {
    "collapsed": false
   },
   "outputs": [
    {
     "data": {
      "text/plain": [
       "Index(['Strike ID', 'Date', 'Village/local area', 'District', 'Province',\n       'Type of attack', 'Reportedly drone?', 'US confirmed?',\n       'US only source?',\n       'Counter-\\nterrorism, force protection or strategic effects?',\n       'Reported target group?', 'Time', 'Reported target type',\n       'Minimum strikes', 'Maximum strikes', 'Minimum total people killed',\n       'Maximum total people killed', 'Minimum civilians reported killed',\n       'Maximum civilians reported killed', 'Minimum children reported killed',\n       'Maximum children reported killed', 'Minimum reported injured',\n       'Maximum reported injured', 'Strike link', 'Index'],\n      dtype='object')"
      ]
     },
     "execution_count": 92,
     "metadata": {},
     "output_type": "execute_result"
    }
   ],
   "source": [
    "US_Afghanistan_data.columns\n",
    "US_Afghanistan_data_updated = US_Afghanistan_data.rename(columns = {'Strike' : 'Strike ID'})\n",
    "US_Afghanistan_data_updated = US_Afghanistan_data_updated.drop('Timeline URL', 1) \n",
    "US_Afghanistan_data_updated.columns\n",
    "US_Afghanistan_data_updated.to_csv('Drone_Data/Clean_CSV/US_Afghanistan_Data_updated.csv')\n",
    "US_Afghanistan_data_updated.columns"
   ]
  },
  {
   "cell_type": "code",
   "execution_count": 90,
   "metadata": {
    "collapsed": false
   },
   "outputs": [
    {
     "data": {
      "text/plain": [
       "Index(['Strike ID', 'Date', 'Location', 'Confirmed/\\npossible US strike',\n       'Air strike?', 'Drone strike', 'Strike type', 'Minimum strikes',\n       'Maximum strikes', 'Minimum people killed', 'Maximum people killed',\n       'Minimum civilians killed', 'Maximum civilians killed',\n       'Minimum children killed', 'Maximum children killed',\n       'Minimum people injured', 'Maximum people injured', 'Strike link',\n       'Index'],\n      dtype='object')"
      ]
     },
     "execution_count": 90,
     "metadata": {},
     "output_type": "execute_result"
    }
   ],
   "source": [
    "US_Somalia_data.columns\n",
    "US_Somalia_data_updated = US_Somalia_data.rename(columns = {'Unnamed: 0' : 'Strike ID'})\n",
    "US_Somalia_data_updated = US_Somalia_data_updated.drop('Unnamed: 18', 1)\n",
    "US_Somalia_data_updated.columns\n",
    "US_Somalia_data_updated.to_csv('Drone_Data/Clean_CSV/US_Somalia_updated.csv')\n",
    "US_Somalia_data_updated.columns\n",
    "\n",
    "#1. remove columns that don't make sense, i.e. \"Unnamed: 18\"\n",
    "# save each seperately\n",
    "#2. then merge it all\n",
    "#3. load up json data into a dictionary and convert it to DF\n",
    "#4. resubmit via unit 5\n",
    "#5. if you clean the csv files, resave the files, save merged as well as seperate files\n",
    "#6. Requests library to scrape data from links, if you have time after wrangling.  \n",
    "\n",
    "\n"
   ]
  },
  {
   "cell_type": "code",
   "execution_count": 74,
   "metadata": {},
   "outputs": [
    {
     "data": {
      "text/plain": [
       "Index(['Strike ID', 'Date', 'Location', 'Province', 'Type of attack',\n       'Confirmed/\\npossible US attack?', 'Air operation?', 'Drone strike',\n       'Minimum number of strikes', 'Maximum number of strikes',\n       'Minimum people killed', 'Maximum people killed',\n       'Minimum civilians reported killed',\n       'Maximum civilians reported killed', 'Minimum children reported killed',\n       'Maximum children reported killed', 'Minimum people injured',\n       'Maximum people injured', 'Strike link', 'Index'],\n      dtype='object')"
      ]
     },
     "execution_count": 74,
     "metadata": {},
     "output_type": "execute_result"
    }
   ],
   "source": [
    "US_Yemen_data.columns\n",
    "US_Yemen_data_updated = US_Yemen_data.drop('Unnamed: 19', 1)\n",
    "US_Yemen_data_updated.columns\n",
    "#US_Yemen_data_updated.to_csv('Drone_Data/Clean_CSV/US_Yemen_data_updated.csv')"
   ]
  },
  {
   "cell_type": "code",
   "execution_count": null,
   "metadata": {},
   "outputs": [],
   "source": []
  },
  {
   "cell_type": "code",
   "execution_count": 73,
   "metadata": {},
   "outputs": [],
   "source": [
    "\n"
   ]
  },
  {
   "cell_type": "markdown",
   "metadata": {},
   "source": [
    "LOAD JSON FILE CREATED FROM CIA TWITTER FEED"
   ]
  },
  {
   "cell_type": "code",
   "execution_count": 8,
   "metadata": {},
   "outputs": [],
   "source": [
    "twitter_drone = json.load((open('Drone_Data/Drone_Data.json')))\n",
    "#remove all the columns, that are not common\n",
    "#combine all the data frames into one\n",
    "#look at pandas documentation, combine things into one big data frame\n",
    "# do same for both sets of data, get 2 clean dataframes, "
   ]
  },
  {
   "cell_type": "code",
   "execution_count": 23,
   "metadata": {},
   "outputs": [],
   "source": [
    "twitter_drone_data_status = pd.DataFrame(twitter_drone)\n",
    "\n",
    "#twitter_drone_data_strike = pd.DataFrame(twitter_drone['strike'])\n"
   ]
  },
  {
   "cell_type": "code",
   "execution_count": 10,
   "metadata": {
    "collapsed": true
   },
   "outputs": [
    {
     "data": {
      "text/html": [
       "<div>\n",
       "<style scoped>\n",
       "    .dataframe tbody tr th:only-of-type {\n",
       "        vertical-align: middle;\n",
       "    }\n",
       "\n",
       "    .dataframe tbody tr th {\n",
       "        vertical-align: top;\n",
       "    }\n",
       "\n",
       "    .dataframe thead th {\n",
       "        text-align: right;\n",
       "    }\n",
       "</style>\n",
       "<table border=\"1\" class=\"dataframe\">\n",
       "  <thead>\n",
       "    <tr style=\"text-align: right;\">\n",
       "      <th></th>\n",
       "      <th>status</th>\n",
       "      <th>strike</th>\n",
       "    </tr>\n",
       "  </thead>\n",
       "  <tbody>\n",
       "  </tbody>\n",
       "</table>\n",
       "</div>"
      ],
      "text/plain": [
       "<div>\n",
       "<style scoped>\n",
       "    .dataframe tbody tr th:only-of-type {\n",
       "        vertical-align: middle;\n",
       "    }\n",
       "\n",
       "    .dataframe tbody tr th {\n",
       "        vertical-align: top;\n",
       "    }\n",
       "\n",
       "    .dataframe thead th {\n",
       "        text-align: right;\n",
       "    }\n",
       "</style>\n",
       "<table border=\"1\" class=\"dataframe\">\n",
       "  <thead>\n",
       "    <tr style=\"text-align: right;\">\n",
       "      <th></th>\n",
       "      <th>status</th>\n",
       "      <th>strike</th>\n",
       "    </tr>\n",
       "  </thead>\n",
       "  <tbody>\n",
       "  </tbody>\n",
       "</table>\n",
       "</div>"
      ]
     },
     "execution_count": 10,
     "metadata": {},
     "output_type": "execute_result"
    }
   ],
   "source": [
    "twitter_drone_data.head(0)"
   ]
  },
  {
   "cell_type": "code",
   "execution_count": null,
   "metadata": {
    "collapsed": true
   },
   "outputs": [],
   "source": []
  },
  {
   "cell_type": "code",
   "execution_count": null,
   "metadata": {
    "collapsed": true
   },
   "outputs": [],
   "source": []
  },
  {
   "cell_type": "code",
   "execution_count": null,
   "metadata": {
    "collapsed": true
   },
   "outputs": [],
   "source": []
  },
  {
   "cell_type": "code",
   "execution_count": null,
   "metadata": {
    "collapsed": true
   },
   "outputs": [],
   "source": []
  },
  {
   "cell_type": "code",
   "execution_count": null,
   "metadata": {
    "collapsed": true
   },
   "outputs": [],
   "source": []
  },
  {
   "cell_type": "code",
   "execution_count": null,
   "metadata": {
    "collapsed": true
   },
   "outputs": [],
   "source": []
  },
  {
   "cell_type": "code",
   "execution_count": null,
   "metadata": {
    "collapsed": true
   },
   "outputs": [],
   "source": []
  },
  {
   "cell_type": "code",
   "execution_count": null,
   "metadata": {
    "collapsed": true
   },
   "outputs": [],
   "source": []
  }
 ],
 "metadata": {
  "kernelspec": {
   "display_name": "Python 3",
   "language": "python",
   "name": "python3"
  },
  "language_info": {
   "codemirror_mode": {
    "name": "ipython",
    "version": 3
   },
   "file_extension": ".py",
   "mimetype": "text/x-python",
   "name": "python",
   "nbconvert_exporter": "python",
   "pygments_lexer": "ipython3",
   "version": "3.6.3"
  }
 },
 "nbformat": 4,
 "nbformat_minor": 1
}
