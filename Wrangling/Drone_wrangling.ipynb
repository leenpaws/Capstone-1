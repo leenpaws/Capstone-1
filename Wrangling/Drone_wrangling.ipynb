{
 "cells": [
  {
   "cell_type": "markdown",
   "metadata": {},
   "source": [
    "LOAD ALL FILES INTO INDIVIDUAL DATA FRAMES AND LOOK FOR COMMONALITIES"
   ]
  },
  {
   "cell_type": "code",
   "execution_count": 2,
   "metadata": {
    "collapsed": true
   },
   "outputs": [],
   "source": [
    "import pandas as pd\n",
    "import numpy as np\n",
    "%matplotlib inline\n",
    "import sys\n",
    "import pandas as pd\n",
    "import numpy as np\n",
    "import matplotlib.pyplot as plt\n",
    "import bokeh.plotting as bkp\n",
    "import json\n",
    "from pandas.io.json import json_normalize"
   ]
  },
  {
   "cell_type": "markdown",
   "metadata": {},
   "source": [
    "LOAD ALL FILES INTO INDIVIDUAL DATA FRAMES AND LOOK FOR COMMONALITIES"
   ]
  },
  {
   "cell_type": "code",
   "execution_count": 3,
   "metadata": {},
   "outputs": [],
   "source": [
    "CIA_Pakistan_csv = open('Drone_Data/Raw_CSV/CIA and US military drone strikes in Pakistan, 2004 to present - '\n",
    "                        'Drone strikes data.csv', mode='r')\n",
    "US_Somalia_csv = open('Drone_Data/Raw_CSV/US strikes in Somalia, 2007 to present - All US actions.csv', mode='r')\n",
    "US_Yemen_csv = open('Drone_Data/Raw_CSV/US strikes in Yemen, 2002 to present - All US actions.csv', mode='r')\n",
    "US_Afghanistan_csv = open('Drone_Data/Raw_CSV/Afghanistan_ US air and drone strikes, 2015 to present - '\n",
    "                          'Bureau data_ US strikes.csv', mode='r')"
   ]
  },
  {
   "cell_type": "code",
   "execution_count": 4,
   "metadata": {},
   "outputs": [],
   "source": [
    "CIA_Pakistan_data = pd.read_csv(CIA_Pakistan_csv)\n",
    "US_Somalia_data = pd.read_csv(US_Somalia_csv)\n",
    "US_Yemen_data = _data = pd.read_csv(US_Yemen_csv)\n",
    "US_Afghanistan_data = pd.read_csv(US_Afghanistan_csv)"
   ]
  },
  {
   "cell_type": "code",
   "execution_count": 35,
   "metadata": {
    "collapsed": false
   },
   "outputs": [
    {
     "name": "stdout",
     "output_type": "stream",
     "text": [
      "(430, 15) (86, 20) (299, 21) (442, 26)\n"
     ]
    }
   ],
   "source": [
    "print(CIA_Pakistan_data.shape,US_Somalia_data.shape,US_Yemen_data.shape,US_Afghanistan_data.shape)\n"
   ]
  },
  {
   "cell_type": "code",
   "execution_count": 9,
   "metadata": {
    "collapsed": false
   },
   "outputs": [
    {
     "data": {
      "text/plain": [
       "Index(['Strike ID', 'Date', 'Location', 'Area', 'Minimum total people killed',\n       'Maximum total people killed', 'Minimum civilians reported killed',\n       'Maximum civilians reported killed', 'Minimum children reported killed',\n       'Maximum children reported killed', 'Minimum reported injured',\n       'Maximum reported injured', 'Strike link', 'Index'],\n      dtype='object')"
      ]
     },
     "execution_count": 9,
     "metadata": {},
     "output_type": "execute_result"
    }
   ],
   "source": [
    "CIA_Pakistan_data.columns\n",
    "CIA_Pakistan_data['Unnamed: 13'][0:3]\n",
    "CIA_Pakistan_data_updated = CIA_Pakistan_data.drop('Unnamed: 13', 1)\n",
    "CIA_Pakistan_data_updated.columns\n",
    "CIA_Pakistan_data_updated.to_csv('Drone_Data/Clean_CSV/CIA_Pakistan_updated.csv')\n",
    "CIA_Pakistan_data_updated.columns\n"
   ]
  },
  {
   "cell_type": "code",
   "execution_count": 25,
   "metadata": {
    "collapsed": false
   },
   "outputs": [
    {
     "data": {
      "text/plain": [
       "Index(['Strike ID', 'Date', 'Village/local area', 'Location', 'Province',\n       'Type of attack', 'Drone strike', 'US confirmed?', 'US only source?',\n       'Counter-\\nterrorism, force protection or strategic effects?',\n       'Reported target group?', 'Time', 'Reported target type',\n       'Minimum strikes', 'Maximum strikes', 'Minimum total people killed',\n       'Maximum total people killed', 'Minimum civilians reported killed',\n       'Maximum civilians reported killed', 'Minimum children reported killed',\n       'Maximum children reported killed', 'Minimum reported injured',\n       'Maximum reported injured', 'Strike link', 'Index'],\n      dtype='object')"
      ]
     },
     "execution_count": 25,
     "metadata": {},
     "output_type": "execute_result"
    }
   ],
   "source": [
    "US_Afghanistan_data.columns\n",
    "#Rename \"Strike\" column to Strike ID which will be the index as it contains info about each dataframe\n",
    "US_Afghanistan_data_updated = US_Afghanistan_data.rename(columns = {'Strike' : 'Strike ID'})\n",
    "#rename Village/local area to Area, change District to location, change 'Reportedly drone? to Drone strike\n",
    "US_Afghanistan_data_updated = US_Afghanistan_data_updated.rename(columns = {'District': 'Location', 'Reportedly drone?': 'Drone strike'})\n",
    "US_Afghanistan_data_updated = US_Afghanistan_data_updated.drop('Timeline URL', 1) \n",
    "US_Afghanistan_data_updated.columns\n",
    "US_Afghanistan_data_updated.to_csv('Drone_Data/Clean_CSV/US_Afghanistan_Data.csv')\n",
    "#US_Afghanistan_data_updated['District'].head()\n",
    "US_Afghanistan_data_updated.columns\n"
   ]
  },
  {
   "cell_type": "code",
   "execution_count": 26,
   "metadata": {},
   "outputs": [],
   "source": [
    ""
   ]
  },
  {
   "cell_type": "code",
   "execution_count": 26,
   "metadata": {
    "collapsed": false
   },
   "outputs": [
    {
     "data": {
      "text/plain": [
       "Index(['Strike ID', 'Date', 'Location', 'US confirmed?', 'Air strike?',\n       'Drone strike', 'Type of attack', 'Minimum strikes', 'Maximum strikes',\n       'Minimum people killed', 'Maximum people killed',\n       'Minimum civilians killed', 'Maximum civilians killed',\n       'Minimum children killed', 'Maximum children killed',\n       'Minimum people injured', 'Maximum people injured', 'Strike link',\n       'Index'],\n      dtype='object')"
      ]
     },
     "execution_count": 26,
     "metadata": {},
     "output_type": "execute_result"
    }
   ],
   "source": [
    "US_Somalia_data.columns\n",
    "#Renamne 'Confirmed\\/npossible US strike' to 'US confirmed? \n",
    "US_Somalia_data_updated = US_Somalia_data.rename(columns = {'Unnamed: 0' : 'Strike ID'})\n",
    "#Rename Confirmed\\/npossible US strike to US confirmed?\n",
    "US_Somalia_data_updated = US_Somalia_data_updated.rename(columns = {'Confirmed/\\npossible US strike': 'US confirmed?', 'Strike type': 'Type of attack'})\n",
    "US_Somalia_data_updated = US_Somalia_data_updated.drop('Unnamed: 18', 1)\n",
    "US_Somalia_data_updated.columns\n",
    "US_Somalia_data_updated.to_csv('Drone_Data/Clean_CSV/US_Somalia_updated.csv')\n",
    "US_Somalia_data_updated.columns"
   ]
  },
  {
   "cell_type": "code",
   "execution_count": 27,
   "metadata": {},
   "outputs": [
    {
     "data": {
      "text/plain": [
       "Index(['Strike ID', 'Date', 'Location', 'Province', 'Type of attack',\n       'US confirmed?', 'Air strike?', 'Drone strike',\n       'Minimum number of strikes', 'Maximum number of strikes',\n       'Minimum people killed', 'Maximum people killed',\n       'Minimum civilians reported killed',\n       'Maximum civilians reported killed', 'Minimum children reported killed',\n       'Maximum children reported killed', 'Minimum people injured',\n       'Maximum people injured', 'Strike link', 'Index'],\n      dtype='object')"
      ]
     },
     "execution_count": 27,
     "metadata": {},
     "output_type": "execute_result"
    }
   ],
   "source": [
    "US_Yemen_data.columns\n",
    "US_Yemen_data_updated = US_Yemen_data.drop('Unnamed: 19', 1)\n",
    "#Renamne 'Confirmed\\/npossible US strike' to 'US confirmed? \n",
    "US_Yemen_data_updated = US_Yemen_data_updated.rename(columns = {'Confirmed/\\npossible US attack?' : 'US confirmed?', 'Air operation?': 'Air strike?'})\n",
    "US_Yemen_data_updated.to_csv('Drone_Data/Clean_CSV/US_Yemen_updated.csv') \n",
    "US_Yemen_data_updated.columns\n",
    "#US_Yemen_data_updated.to_csv('Drone_Data/Clean_CSV/US_Yemen_data_updated.csv')"
   ]
  },
  {
   "cell_type": "code",
   "execution_count": 28,
   "metadata": {},
   "outputs": [],
   "source": []
  },
  {
   "cell_type": "code",
   "execution_count": 29,
   "metadata": {},
   "outputs": [],
   "source": [
    "US_Yemen_updated = open('Drone_Data/Clean_CSV/US_Yemen_updated.csv')\n",
    "CIA_Pakistan_updated = open('Drone_Data/Clean_CSV/CIA_Pakistan_updated.csv')\n",
    "US_Somalia_updated = open('Drone_Data/Clean_CSV/US_Somalia_updated.csv')\n",
    "US_Afghanistan_updated = open('Drone_Data/Clean_CSV/US_Afghanistan_Data.csv')"
   ]
  },
  {
   "cell_type": "code",
   "execution_count": 30,
   "metadata": {},
   "outputs": [],
   "source": [
    "CIA_Pakistan_clean_data = pd.read_csv(CIA_Pakistan_updated)\n",
    "US_Somalia_clean_data = pd.read_csv(US_Somalia_updated)\n",
    "US_Yemen_clean_data = _data = pd.read_csv(US_Yemen_updated)\n",
    "US_Afghanistan_clean_data = pd.read_csv(US_Afghanistan_updated)"
   ]
  },
  {
   "cell_type": "code",
   "execution_count": 31,
   "metadata": {},
   "outputs": [],
   "source": [
    "Frames = [US_Afghanistan_clean_data, US_Somalia_clean_data, US_Yemen_clean_data, CIA_Pakistan_clean_data]\n",
    "MasterFrame = pd.concat(Frames)"
   ]
  },
  {
   "cell_type": "code",
   "execution_count": 38,
   "metadata": {},
   "outputs": [
    {
     "name": "stdout",
     "output_type": "stream",
     "text": [
      "<class 'pandas.core.frame.DataFrame'>\nInt64Index: 1257 entries, 0 to 429\nData columns (total 38 columns):\nAir strike?                                                   385 non-null float64\nArea                                                          430 non-null object\nCounter-\nterrorism, force protection or strategic effects?    442 non-null object\nDate                                                          1257 non-null object\nDrone strike                                                  827 non-null float64\nIndex                                                         1257 non-null int64\nLocation                                                      1256 non-null object\nMaximum children killed                                       86 non-null float64\nMaximum children reported killed                              1171 non-null float64\nMaximum civilians killed                                      86 non-null float64\nMaximum civilians reported killed                             1171 non-null float64\nMaximum number of strikes                                     299 non-null float64\nMaximum people injured                                        385 non-null float64\nMaximum people killed                                         385 non-null float64\nMaximum reported injured                                      872 non-null float64\nMaximum strikes                                               528 non-null float64\nMaximum total people killed                                   872 non-null float64\nMinimum children killed                                       86 non-null float64\nMinimum children reported killed                              1171 non-null float64\nMinimum civilians killed                                      86 non-null float64\nMinimum civilians reported killed                             1171 non-null float64\nMinimum number of strikes                                     299 non-null float64\nMinimum people injured                                        385 non-null float64\nMinimum people killed                                         385 non-null float64\nMinimum reported injured                                      872 non-null float64\nMinimum strikes                                               528 non-null float64\nMinimum total people killed                                   872 non-null float64\nProvince                                                      741 non-null object\nReported target group?                                        442 non-null object\nReported target type                                          442 non-null object\nStrike ID                                                     1257 non-null object\nStrike link                                                   1066 non-null object\nTime                                                          442 non-null object\nType of attack                                                827 non-null object\nUS confirmed?                                                 827 non-null object\nUS only source?                                               442 non-null float64\nUnnamed: 0                                                    1257 non-null int64\nVillage/local area                                            442 non-null object\ndtypes: float64(23), int64(2), object(13)\nmemory usage: 383.0+ KB\n"
     ]
    }
   ],
   "source": [
    "#MasterFrame.columns\n",
    "#MasterFrame.shape\n",
    "MasterFrame.info()\n",
    "\n"
   ]
  },
  {
   "cell_type": "markdown",
   "metadata": {},
   "source": [
    "LOAD JSON FILE CREATED FROM CIA TWITTER FEED"
   ]
  },
  {
   "cell_type": "code",
   "execution_count": 15,
   "metadata": {},
   "outputs": [],
   "source": [
    "#with keyword automatically closes file at the end\n",
    "with open('Drone_Data/Drone_Data.json') as f:\n",
    "    twitter_drone = json.load(f)\n",
    "twitter_drone.keys()\n",
    "    \n",
    "#JSON_DF_stats['status'] = pd.DataFrame(twitter_drone)\n",
    "JSON_DF_stats = pd.DataFrame(twitter_drone['strike'])\n",
    "# remove all the columns, that are not common\n",
    "# combine all the data frames into one\n",
    "# look at pandas documentation, combine things into one big data frame\n",
    "# do same for both sets of data, get 2 clean dataframes, "
   ]
  },
  {
   "cell_type": "code",
   "execution_count": 17,
   "metadata": {},
   "outputs": [
    {
     "data": {
      "text/html": [
       "<div>\n",
       "<style scoped>\n",
       "    .dataframe tbody tr th:only-of-type {\n",
       "        vertical-align: middle;\n",
       "    }\n",
       "\n",
       "    .dataframe tbody tr th {\n",
       "        vertical-align: top;\n",
       "    }\n",
       "\n",
       "    .dataframe thead th {\n",
       "        text-align: right;\n",
       "    }\n",
       "</style>\n",
       "<table border=\"1\" class=\"dataframe\">\n",
       "  <thead>\n",
       "    <tr style=\"text-align: right;\">\n",
       "      <th></th>\n",
       "      <th>_id</th>\n",
       "      <th>articles</th>\n",
       "      <th>bij_link</th>\n",
       "      <th>bij_summary_short</th>\n",
       "      <th>bureau_id</th>\n",
       "      <th>children</th>\n",
       "      <th>civilians</th>\n",
       "      <th>country</th>\n",
       "      <th>date</th>\n",
       "      <th>deaths</th>\n",
       "      <th>...</th>\n",
       "      <th>injuries</th>\n",
       "      <th>lat</th>\n",
       "      <th>location</th>\n",
       "      <th>lon</th>\n",
       "      <th>names</th>\n",
       "      <th>narrative</th>\n",
       "      <th>number</th>\n",
       "      <th>target</th>\n",
       "      <th>town</th>\n",
       "      <th>tweet_id</th>\n",
       "    </tr>\n",
       "  </thead>\n",
       "  <tbody>\n",
       "    <tr>\n",
       "      <th>0</th>\n",
       "      <td>55c79e711cbee48856a30886</td>\n",
       "      <td>[]</td>\n",
       "      <td>http://www.thebureauinvestigates.com/2012/03/2...</td>\n",
       "      <td>In the first known US targeted assassination u...</td>\n",
       "      <td>YEM001</td>\n",
       "      <td></td>\n",
       "      <td>0</td>\n",
       "      <td>Yemen</td>\n",
       "      <td>2002-11-03T00:00:00.000Z</td>\n",
       "      <td>6</td>\n",
       "      <td>...</td>\n",
       "      <td></td>\n",
       "      <td>15.47467</td>\n",
       "      <td>Marib Province</td>\n",
       "      <td>45.322755</td>\n",
       "      <td>[Qa'id Salim Sinan al-Harithi, Abu Ahmad al-Hi...</td>\n",
       "      <td>In the first known US targeted assassination u...</td>\n",
       "      <td>1</td>\n",
       "      <td></td>\n",
       "      <td></td>\n",
       "      <td>278544689483890688</td>\n",
       "    </tr>\n",
       "    <tr>\n",
       "      <th>1</th>\n",
       "      <td>55c79e711cbee48856a30887</td>\n",
       "      <td>[]</td>\n",
       "      <td>http://www.thebureauinvestigates.com/2011/08/1...</td>\n",
       "      <td>First known drone strike in Pakistan kills at ...</td>\n",
       "      <td>B1</td>\n",
       "      <td>2</td>\n",
       "      <td>2</td>\n",
       "      <td>Pakistan</td>\n",
       "      <td>2004-06-17T00:00:00.000Z</td>\n",
       "      <td>6-8</td>\n",
       "      <td>...</td>\n",
       "      <td>1</td>\n",
       "      <td>32.30512565</td>\n",
       "      <td>South Waziristan</td>\n",
       "      <td>69.57624435</td>\n",
       "      <td>[Nek Mohammad, Fakhar Zaman, Azmat Khan, Marez...</td>\n",
       "      <td>The first known fatal US drone strike inside P...</td>\n",
       "      <td>2</td>\n",
       "      <td>Nek Mohammed</td>\n",
       "      <td>Wana</td>\n",
       "      <td>278544750867533824</td>\n",
       "    </tr>\n",
       "    <tr>\n",
       "      <th>2</th>\n",
       "      <td>55c79e711cbee48856a30888</td>\n",
       "      <td>[]</td>\n",
       "      <td>http://www.thebureauinvestigates.com/2011/08/1...</td>\n",
       "      <td>Two killed, including Haitham al-Yemeni an al ...</td>\n",
       "      <td>B2</td>\n",
       "      <td></td>\n",
       "      <td></td>\n",
       "      <td>Pakistan</td>\n",
       "      <td>2005-05-08T00:00:00.000Z</td>\n",
       "      <td>2</td>\n",
       "      <td>...</td>\n",
       "      <td></td>\n",
       "      <td>32.98677989</td>\n",
       "      <td>North Waziristan</td>\n",
       "      <td>70.26082993</td>\n",
       "      <td>[Haitham al-Yemeni, Samiullah Khan]</td>\n",
       "      <td>2 people killed in a Predator strike which rep...</td>\n",
       "      <td>3</td>\n",
       "      <td>Haitham al-Yemeni</td>\n",
       "      <td>Toorikhel</td>\n",
       "      <td>278544812255367168</td>\n",
       "    </tr>\n",
       "  </tbody>\n",
       "</table>\n",
       "<p>3 rows × 22 columns</p>\n",
       "</div>"
      ],
      "text/plain": [
       "<div>\n",
       "<style scoped>\n",
       "    .dataframe tbody tr th:only-of-type {\n",
       "        vertical-align: middle;\n",
       "    }\n",
       "\n",
       "    .dataframe tbody tr th {\n",
       "        vertical-align: top;\n",
       "    }\n",
       "\n",
       "    .dataframe thead th {\n",
       "        text-align: right;\n",
       "    }\n",
       "</style>\n",
       "<table border=\"1\" class=\"dataframe\">\n",
       "  <thead>\n",
       "    <tr style=\"text-align: right;\">\n",
       "      <th></th>\n",
       "      <th>_id</th>\n",
       "      <th>articles</th>\n",
       "      <th>bij_link</th>\n",
       "      <th>bij_summary_short</th>\n",
       "      <th>bureau_id</th>\n",
       "      <th>children</th>\n",
       "      <th>civilians</th>\n",
       "      <th>country</th>\n",
       "      <th>date</th>\n",
       "      <th>deaths</th>\n",
       "      <th>...</th>\n",
       "      <th>injuries</th>\n",
       "      <th>lat</th>\n",
       "      <th>location</th>\n",
       "      <th>lon</th>\n",
       "      <th>names</th>\n",
       "      <th>narrative</th>\n",
       "      <th>number</th>\n",
       "      <th>target</th>\n",
       "      <th>town</th>\n",
       "      <th>tweet_id</th>\n",
       "    </tr>\n",
       "  </thead>\n",
       "  <tbody>\n",
       "    <tr>\n",
       "      <th>0</th>\n",
       "      <td>55c79e711cbee48856a30886</td>\n",
       "      <td>[]</td>\n",
       "      <td>http://www.thebureauinvestigates.com/2012/03/2...</td>\n",
       "      <td>In the first known US targeted assassination u...</td>\n",
       "      <td>YEM001</td>\n",
       "      <td></td>\n",
       "      <td>0</td>\n",
       "      <td>Yemen</td>\n",
       "      <td>2002-11-03T00:00:00.000Z</td>\n",
       "      <td>6</td>\n",
       "      <td>...</td>\n",
       "      <td></td>\n",
       "      <td>15.47467</td>\n",
       "      <td>Marib Province</td>\n",
       "      <td>45.322755</td>\n",
       "      <td>[Qa'id Salim Sinan al-Harithi, Abu Ahmad al-Hi...</td>\n",
       "      <td>In the first known US targeted assassination u...</td>\n",
       "      <td>1</td>\n",
       "      <td></td>\n",
       "      <td></td>\n",
       "      <td>278544689483890688</td>\n",
       "    </tr>\n",
       "    <tr>\n",
       "      <th>1</th>\n",
       "      <td>55c79e711cbee48856a30887</td>\n",
       "      <td>[]</td>\n",
       "      <td>http://www.thebureauinvestigates.com/2011/08/1...</td>\n",
       "      <td>First known drone strike in Pakistan kills at ...</td>\n",
       "      <td>B1</td>\n",
       "      <td>2</td>\n",
       "      <td>2</td>\n",
       "      <td>Pakistan</td>\n",
       "      <td>2004-06-17T00:00:00.000Z</td>\n",
       "      <td>6-8</td>\n",
       "      <td>...</td>\n",
       "      <td>1</td>\n",
       "      <td>32.30512565</td>\n",
       "      <td>South Waziristan</td>\n",
       "      <td>69.57624435</td>\n",
       "      <td>[Nek Mohammad, Fakhar Zaman, Azmat Khan, Marez...</td>\n",
       "      <td>The first known fatal US drone strike inside P...</td>\n",
       "      <td>2</td>\n",
       "      <td>Nek Mohammed</td>\n",
       "      <td>Wana</td>\n",
       "      <td>278544750867533824</td>\n",
       "    </tr>\n",
       "    <tr>\n",
       "      <th>2</th>\n",
       "      <td>55c79e711cbee48856a30888</td>\n",
       "      <td>[]</td>\n",
       "      <td>http://www.thebureauinvestigates.com/2011/08/1...</td>\n",
       "      <td>Two killed, including Haitham al-Yemeni an al ...</td>\n",
       "      <td>B2</td>\n",
       "      <td></td>\n",
       "      <td></td>\n",
       "      <td>Pakistan</td>\n",
       "      <td>2005-05-08T00:00:00.000Z</td>\n",
       "      <td>2</td>\n",
       "      <td>...</td>\n",
       "      <td></td>\n",
       "      <td>32.98677989</td>\n",
       "      <td>North Waziristan</td>\n",
       "      <td>70.26082993</td>\n",
       "      <td>[Haitham al-Yemeni, Samiullah Khan]</td>\n",
       "      <td>2 people killed in a Predator strike which rep...</td>\n",
       "      <td>3</td>\n",
       "      <td>Haitham al-Yemeni</td>\n",
       "      <td>Toorikhel</td>\n",
       "      <td>278544812255367168</td>\n",
       "    </tr>\n",
       "  </tbody>\n",
       "</table>\n",
       "<p>3 rows × 22 columns</p>\n",
       "</div>"
      ]
     },
     "execution_count": 17,
     "metadata": {},
     "output_type": "execute_result"
    }
   ],
   "source": [
    "#twitter_drone_data_strike = pd.DataFrame(twitter_drone['strike'])\n",
    "JSON_DF_stats.head(3)\n"
   ]
  },
  {
   "cell_type": "code",
   "execution_count": 10,
   "metadata": {
    "collapsed": false
   },
   "outputs": [
    {
     "data": {
      "text/html": [
       "<div>\n",
       "<style scoped>\n",
       "    .dataframe tbody tr th:only-of-type {\n",
       "        vertical-align: middle;\n",
       "    }\n",
       "\n",
       "    .dataframe tbody tr th {\n",
       "        vertical-align: top;\n",
       "    }\n",
       "\n",
       "    .dataframe thead th {\n",
       "        text-align: right;\n",
       "    }\n",
       "</style>\n",
       "<table border=\"1\" class=\"dataframe\">\n",
       "  <thead>\n",
       "    <tr style=\"text-align: right;\">\n",
       "      <th></th>\n",
       "      <th>status</th>\n",
       "      <th>strike</th>\n",
       "    </tr>\n",
       "  </thead>\n",
       "  <tbody>\n",
       "  </tbody>\n",
       "</table>\n",
       "</div>"
      ],
      "text/plain": [
       "<div>\n",
       "<style scoped>\n",
       "    .dataframe tbody tr th:only-of-type {\n",
       "        vertical-align: middle;\n",
       "    }\n",
       "\n",
       "    .dataframe tbody tr th {\n",
       "        vertical-align: top;\n",
       "    }\n",
       "\n",
       "    .dataframe thead th {\n",
       "        text-align: right;\n",
       "    }\n",
       "</style>\n",
       "<table border=\"1\" class=\"dataframe\">\n",
       "  <thead>\n",
       "    <tr style=\"text-align: right;\">\n",
       "      <th></th>\n",
       "      <th>status</th>\n",
       "      <th>strike</th>\n",
       "    </tr>\n",
       "  </thead>\n",
       "  <tbody>\n",
       "  </tbody>\n",
       "</table>\n",
       "</div>"
      ]
     },
     "execution_count": 10,
     "metadata": {},
     "output_type": "execute_result"
    }
   ],
   "source": [
    "twitter_drone_data.head(0)"
   ]
  },
  {
   "cell_type": "code",
   "execution_count": null,
   "metadata": {
    "collapsed": true
   },
   "outputs": [],
   "source": [
    "#for each of them \n",
    "# for classification, need to know f(x), build it out based on metric or calculation\n"
   ]
  },
  {
   "cell_type": "code",
   "execution_count": null,
   "metadata": {
    "collapsed": true
   },
   "outputs": [],
   "source": [
    "#1. treat each seperately, see if there's a way to correlate/join info from json file to \n",
    "see if can get each strike link data into a seperate column and correlate with strike id(add a field and requests package)\n",
    "2. do visualizations for each of them\n",
    "3. do stat inference for each seperately\n",
    "4. do clustering for each seperately\n",
    "    \n",
    "5. then do classification(for this we need f(x) column beforehand)\n",
    "    "
   ]
  },
  {
   "cell_type": "code",
   "execution_count": null,
   "metadata": {
    "collapsed": true
   },
   "outputs": [],
   "source": [
    "finish wrangling, \n",
    "then focus on visualization\n",
    "focus on one thing at time"
   ]
  },
  {
   "cell_type": "code",
   "execution_count": null,
   "metadata": {
    "collapsed": true
   },
   "outputs": [],
   "source": []
  },
  {
   "cell_type": "code",
   "execution_count": null,
   "metadata": {
    "collapsed": true
   },
   "outputs": [],
   "source": []
  },
  {
   "cell_type": "code",
   "execution_count": null,
   "metadata": {
    "collapsed": true
   },
   "outputs": [],
   "source": []
  },
  {
   "cell_type": "code",
   "execution_count": null,
   "metadata": {
    "collapsed": true
   },
   "outputs": [],
   "source": []
  },
  {
   "cell_type": "code",
   "execution_count": null,
   "metadata": {
    "collapsed": true
   },
   "outputs": [],
   "source": []
  }
 ],
 "metadata": {
  "kernelspec": {
   "display_name": "Python 3",
   "language": "python",
   "name": "python3"
  },
  "language_info": {
   "codemirror_mode": {
    "name": "ipython",
    "version": 3
   },
   "file_extension": ".py",
   "mimetype": "text/x-python",
   "name": "python",
   "nbconvert_exporter": "python",
   "pygments_lexer": "ipython3",
   "version": "3.6.3"
  }
 },
 "nbformat": 4,
 "nbformat_minor": 1
}
