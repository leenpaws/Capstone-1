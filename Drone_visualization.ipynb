{
 "cells": [
  {
   "cell_type": "code",
   "execution_count": 14,
   "metadata": {
    "collapsed": true
   },
   "outputs": [],
   "source": [
    "import pandas as pd\n",
    "import numpy as np\n",
    "%matplotlib inline\n",
    "import sys\n",
    "import pandas as pd\n",
    "import numpy as np\n",
    "import matplotlib.pyplot as plt\n",
    "import bokeh.plotting as bkp\n",
    "import json\n",
    "import gmaps\n",
    "import gmaps.datasets\n",
    "#gmaps.configure(api_key = )\n",
    "from pandas.io.json import json_normalize\n",
    "import os.path\n",
    "import scipy.stats as stats\n",
    "import math\n",
    "from sklearn.cluster import KMeans\n",
    "from sklearn.preprocessing import StandardScaler\n",
    "from sklearn.pipeline import make_pipeline\n",
    "from sklearn.decomposition import PCA\n"
   ]
  },
  {
   "cell_type": "markdown",
   "metadata": {},
   "source": [
    "WRANGLING"
   ]
  },
  {
   "cell_type": "markdown",
   "metadata": {},
   "source": [
    "LOAD ALL FILES INTO INDIVIDUAL DATA FRAMES AND LOOK FOR COMMONALITIES"
   ]
  },
  {
   "cell_type": "code",
   "execution_count": 15,
   "metadata": {
    "collapsed": true
   },
   "outputs": [],
   "source": [
    "#os.path.join\n",
    "clean_dir = '/home/skultra/Springboard/Code/Capstone-1/Drone_Data/Clean_CSV'"
   ]
  },
  {
   "cell_type": "code",
   "execution_count": 16,
   "metadata": {
    "collapsed": true
   },
   "outputs": [],
   "source": [
    "us_yemen_path = os.path.join(clean_dir, 'US_Yemen_updated.csv')\n",
    "cia_pakistan_path = os.path.join(clean_dir, 'CIA_Pakistan_updated.csv')\n",
    "us_somalia_path = os.path.join(clean_dir, 'US_Somalia_updated.csv')\n",
    "us_afghanistan_path = os.path.join(clean_dir, 'US_Afghanistan_Data.csv')"
   ]
  },
  {
   "cell_type": "code",
   "execution_count": 17,
   "metadata": {
    "collapsed": true
   },
   "outputs": [],
   "source": [
    "#CIA_Pakistan_clean_data\n",
    "pakistan = pd.read_csv(cia_pakistan_path)\n",
    "#US_Somalia_clean_data \n",
    "somalia = pd.read_csv(us_somalia_path)\n",
    "#US_Yemen_clean_data \n",
    "yemen = _data = pd.read_csv(us_yemen_path)\n",
    "#US_Afghanistan_clean_data \n",
    "afghanistan = pd.read_csv(us_afghanistan_path)"
   ]
  },
  {
   "cell_type": "code",
   "execution_count": 18,
   "metadata": {},
   "outputs": [
    {
     "name": "stdout",
     "output_type": "stream",
     "text": [
      "(442, 26)\n",
      "(299, 21)\n",
      "(86, 20)\n",
      "(430, 15)\n"
     ]
    }
   ],
   "source": [
    "frames = [afghanistan, yemen, somalia, pakistan]\n",
    "frames_dict= {}\n",
    "frames_dict['Afghanistan'] = afghanistan\n",
    "frames_dict['Pakistan'] = pakistan\n",
    "frames_dict['Somalia'] = somalia\n",
    "frames_dict['Yemen'] = yemen\n",
    "\n",
    "\n",
    "master_frame = pd.concat(frames)\n",
    "for frame in frames:\n",
    "    print(frame.shape)"
   ]
  },
  {
   "cell_type": "code",
   "execution_count": 19,
   "metadata": {
    "scrolled": true
   },
   "outputs": [
    {
     "name": "stdout",
     "output_type": "stream",
     "text": [
      "<class 'pandas.core.frame.DataFrame'>\n",
      "Int64Index: 1257 entries, 0 to 429\n",
      "Data columns (total 30 columns):\n",
      "Air strike?                                                   385 non-null float64\n",
      "Area                                                          430 non-null object\n",
      "Counter-\n",
      "terrorism, force protection or strategic effects?    442 non-null object\n",
      "Date                                                          1257 non-null object\n",
      "Drone strike                                                  827 non-null float64\n",
      "Index                                                         1257 non-null int64\n",
      "Location                                                      1256 non-null object\n",
      "Maximum children killed                                       1257 non-null int64\n",
      "Maximum civilians killed                                      1257 non-null int64\n",
      "Maximum number of strikes                                     299 non-null float64\n",
      "Maximum people injured                                        1257 non-null int64\n",
      "Maximum people killed                                         1257 non-null int64\n",
      "Maximum strikes                                               528 non-null float64\n",
      "Minimum children killed                                       1257 non-null int64\n",
      "Minimum civilians killed                                      1257 non-null int64\n",
      "Minimum number of strikes                                     299 non-null float64\n",
      "Minimum people injured                                        1257 non-null int64\n",
      "Minimum people killed                                         1257 non-null int64\n",
      "Minimum strikes                                               528 non-null float64\n",
      "Province                                                      741 non-null object\n",
      "Reported target group?                                        442 non-null object\n",
      "Reported target type                                          442 non-null object\n",
      "Strike ID                                                     1257 non-null object\n",
      "Strike link                                                   1066 non-null object\n",
      "Time                                                          442 non-null object\n",
      "Type of attack                                                827 non-null object\n",
      "US confirmed?                                                 827 non-null object\n",
      "US only source?                                               442 non-null float64\n",
      "Unnamed: 0                                                    1257 non-null int64\n",
      "Village/local area                                            442 non-null object\n",
      "dtypes: float64(7), int64(10), object(13)\n",
      "memory usage: 304.4+ KB\n"
     ]
    },
    {
     "name": "stderr",
     "output_type": "stream",
     "text": [
      "/home/skultra/anaconda3/lib/python3.6/site-packages/ipykernel_launcher.py:4: FutureWarning: convert_objects is deprecated.  Use the data-type specific converters pd.to_datetime, pd.to_timedelta and pd.to_numeric.\n",
      "  after removing the cwd from sys.path.\n"
     ]
    },
    {
     "data": {
      "text/plain": [
       "Air strike?                                                    float64\n",
       "Area                                                            object\n",
       "Counter-\\nterrorism, force protection or strategic effects?     object\n",
       "Date                                                            object\n",
       "Drone strike                                                   float64\n",
       "Index                                                            int64\n",
       "Location                                                        object\n",
       "Maximum children killed                                          int64\n",
       "Maximum civilians killed                                         int64\n",
       "Maximum number of strikes                                      float64\n",
       "Maximum people injured                                           int64\n",
       "Maximum people killed                                            int64\n",
       "Maximum strikes                                                float64\n",
       "Minimum children killed                                          int64\n",
       "Minimum civilians killed                                         int64\n",
       "Minimum number of strikes                                      float64\n",
       "Minimum people injured                                           int64\n",
       "Minimum people killed                                            int64\n",
       "Minimum strikes                                                float64\n",
       "Province                                                        object\n",
       "Reported target group?                                          object\n",
       "Reported target type                                            object\n",
       "Strike ID                                                       object\n",
       "Strike link                                                     object\n",
       "Time                                                           float64\n",
       "Type of attack                                                  object\n",
       "US confirmed?                                                  float64\n",
       "US only source?                                                float64\n",
       "Unnamed: 0                                                       int64\n",
       "Village/local area                                              object\n",
       "dtype: object"
      ]
     },
     "execution_count": 19,
     "metadata": {},
     "output_type": "execute_result"
    }
   ],
   "source": [
    "#MasterFrame.columns\n",
    "#MasterFrame.shape\n",
    "master_frame.info()\n",
    "master_frame.convert_objects(convert_numeric=True).dtypes \n"
   ]
  },
  {
   "cell_type": "markdown",
   "metadata": {},
   "source": [
    "LOAD JSON FILE CREATED FROM CIA TWITTER FEED"
   ]
  },
  {
   "cell_type": "code",
   "execution_count": 20,
   "metadata": {
    "collapsed": true
   },
   "outputs": [],
   "source": [
    "#with keyword automatically closes file at the end\n",
    "with open('/home/skultra/Springboard/Code/Capstone-1/Drone_Data/Drone_Data.json') as f:\n",
    "    twitter_drone = json.load(f)\n",
    "twitter_drone.keys()\n",
    "    \n",
    "#JSON_DF_stats['status'] = pd.DataFrame(twitter_drone)\n",
    "JSON_DF_stats = pd.DataFrame(twitter_drone['strike'])\n",
    "# remove all the columns, that are not common\n",
    "# combine all the data frames into one\n",
    "# look at pandas documentation, combine things into one big data frame\n",
    "# do same for both sets of data, get 2 clean dataframes, "
   ]
  },
  {
   "cell_type": "code",
   "execution_count": 21,
   "metadata": {},
   "outputs": [
    {
     "name": "stdout",
     "output_type": "stream",
     "text": [
      "<class 'pandas.core.frame.DataFrame'>\n",
      "RangeIndex: 647 entries, 0 to 646\n",
      "Data columns (total 22 columns):\n",
      "_id                  647 non-null object\n",
      "articles             647 non-null object\n",
      "bij_link             647 non-null object\n",
      "bij_summary_short    647 non-null object\n",
      "bureau_id            647 non-null object\n",
      "children             647 non-null object\n",
      "civilians            647 non-null object\n",
      "country              647 non-null object\n",
      "date                 647 non-null object\n",
      "deaths               647 non-null object\n",
      "deaths_max           647 non-null object\n",
      "deaths_min           647 non-null object\n",
      "injuries             647 non-null object\n",
      "lat                  647 non-null object\n",
      "location             647 non-null object\n",
      "lon                  647 non-null object\n",
      "names                647 non-null object\n",
      "narrative            647 non-null object\n",
      "number               647 non-null int64\n",
      "target               647 non-null object\n",
      "town                 647 non-null object\n",
      "tweet_id             647 non-null object\n",
      "dtypes: int64(1), object(21)\n",
      "memory usage: 111.3+ KB\n"
     ]
    }
   ],
   "source": [
    "#twitter_drone_data_strike = pd.DataFrame(twitter_drone['strike'])\n",
    "JSON_DF_stats.info()\n",
    "#len(JSON_DF_stats)\n"
   ]
  },
  {
   "cell_type": "markdown",
   "metadata": {},
   "source": [
    "VISUALIZATION"
   ]
  },
  {
   "cell_type": "code",
   "execution_count": 22,
   "metadata": {
    "scrolled": true
   },
   "outputs": [
    {
     "data": {
      "image/png": "[encoded data removed]",
      "text/plain": [
       "<matplotlib.figure.Figure at 0x7fe1b6d274e0>"
      ]
     },
     "metadata": {},
     "output_type": "display_data"
    },
    {
     "data": {
      "image/png": "[encoded data removed]",
      "text/plain": [
       "<matplotlib.figure.Figure at 0x7fe1b31ae9b0>"
      ]
     },
     "metadata": {},
     "output_type": "display_data"
    },
    {
     "data": {
      "image/png": "[encoded data removed]",
      "text/plain": [
       "<matplotlib.figure.Figure at 0x7fe1b33d0cc0>"
      ]
     },
     "metadata": {},
     "output_type": "display_data"
    },
    {
     "data": {
      "image/png": "[encoded data removed]",
      "text/plain": [
       "<matplotlib.figure.Figure at 0x7fe1b3178e48>"
      ]
     },
     "metadata": {},
     "output_type": "display_data"
    }
   ],
   "source": [
    "#Count something interesting\n",
    "# of civilian deaths per AO\n",
    "# Somalia has the greatest fluctuation between known civlian deaths and unknown civilian deaths\n",
    "for key,value in frames_dict.items():\n",
    "    cols = ['Minimum civilians killed', 'Maximum civilians killed']    \n",
    "    value[cols].sum().plot.bar(title=key)\n",
    "    plt.show()\n",
    "\n",
    "#set the dictionary key as name of \n",
    "#for key, value in dictionary.items:\n",
    "    "
   ]
  },
  {
   "cell_type": "markdown",
   "metadata": {
    "collapsed": true
   },
   "source": [
    "Investigating the trend of drone related deaths over time using a line graph. \n",
    "    "
   ]
  },
  {
   "cell_type": "code",
   "execution_count": 23,
   "metadata": {
    "scrolled": true
   },
   "outputs": [
    {
     "data": {
      "image/png": "[encoded data removed]",
      "text/plain": [
       "<matplotlib.figure.Figure at 0x7fe1b3381588>"
      ]
     },
     "metadata": {},
     "output_type": "display_data"
    },
    {
     "data": {
      "image/png": "[encoded data removed]",
      "text/plain": [
       "<matplotlib.figure.Figure at 0x7fe1b3471978>"
      ]
     },
     "metadata": {},
     "output_type": "display_data"
    },
    {
     "data": {
      "image/png": "[encoded data removed]",
      "text/plain": [
       "<matplotlib.figure.Figure at 0x7fe1b34dd198>"
      ]
     },
     "metadata": {},
     "output_type": "display_data"
    },
    {
     "data": {
      "image/png": "[encoded data removed]",
      "text/plain": [
       "<matplotlib.figure.Figure at 0x7fe1b0618b00>"
      ]
     },
     "metadata": {},
     "output_type": "display_data"
    }
   ],
   "source": [
    "#subset out and take each seperately, \n",
    "for key,value in frames_dict.items():\n",
    "    cols = ['Minimum children killed', 'Maximum children killed']    \n",
    "    value[cols].sum().plot.bar(title=key)\n",
    "    plt.show()"
   ]
  },
  {
   "cell_type": "markdown",
   "metadata": {},
   "source": [
    "Least number of children killed in Somalia, most number in Yemen. "
   ]
  },
  {
   "cell_type": "markdown",
   "metadata": {},
   "source": [
    "Immediate goals: do heatmap visualization, children killed, count based columns, heatmap, clustering, some count based columns(bar chart or pie char)\n",
    "statistiscal \n",
    "after: basic writeups nad documentation\n",
    "    \n",
    "NLP featurization-preprocessing test, clean text data\n",
    "basic supervised ML for classification: random forest, svm, logistic regressions, boosting, bagging vs. boosting\n",
    "measuring accuracy, precision, recall, f1 score\n",
    "        "
   ]
  },
  {
   "cell_type": "markdown",
   "metadata": {},
   "source": [
    "INFERENTIAL STATISTICS"
   ]
  },
  {
   "cell_type": "code",
   "execution_count": 24,
   "metadata": {
    "collapsed": true
   },
   "outputs": [],
   "source": [
    "def paired_difference_test(frame1, frame2):\n",
    "    df1_population = []\n",
    "    df2_population = []\n",
    "#get the mean difference\n",
    "    df1_population = .5 * (frame1['Maximum civilians killed'] -frame1['Minimum civilians killed'])\n",
    "    df2_population = .5 * (frame2['Maximum civilians killed'] - frame2['Minimum civilians killed'])\n",
    "    meand = df1_population.mean() - df2_population.mean()\n",
    "    \n",
    "#get std deviation of each group    \n",
    "    df1_population_std = df1_population.std()\n",
    "    df2_population_std = df2_population.std()\n",
    "    \n",
    "#get size of each group    \n",
    "    df1_population_ratio_size = len(df1_population)\n",
    "    df2_population_ratio_size = len(df2_population)\n",
    "    \n",
    "#get standard error\n",
    "    SE = math.sqrt(((df2_population_std*df2_population_std)/df1_population_ratio_size)+\n",
    "                   ((df1_population_std*df1_population_std)/df2_population_ratio_size))   \n",
    "#z-score\n",
    "    z_score = meand/SE\n",
    "    \n",
    "    \n",
    "#calculate p-value\n",
    "    p_value = stats.norm.sf(abs(z_score))\n",
    "    \n",
    "    print(\"Standard Error:\", SE)\n",
    "    print(\"z_score\", z_score)\n",
    "    print(\"p_value\", p_value)\n",
    "    \n",
    "\n",
    "    \n",
    "    \n",
    "    \n",
    "    '''meanD = df100_ratio_mean - df1000_ratio_mean \n",
    "    # Get the standard deviation of each group () df100_ratio_std = df100['Excess Readmission Ratio'].std()\n",
    "    df1000_ratio_std = df1000['Excess Readmission Ratio'].std() \n",
    "    # Get the size of each group (n) df100_ratio_size = len(df100) df1000_ratio_size = len(df1000) \n",
    "    # Calculate Standard Error (SE) \n",
    "    SE = math.sqrt(((df100_ratio_std*df100_ratio_std)/df100_ratio_size)+\n",
    "    ((df1000_ratio_std*df1000_ratio_std)/df1000_ratio_size) )\n",
    "    # Calculate Z-Score z_score = meanD / SE z_score'''"
   ]
  },
  {
   "cell_type": "code",
   "execution_count": 25,
   "metadata": {
    "scrolled": false
   },
   "outputs": [
    {
     "name": "stdout",
     "output_type": "stream",
     "text": [
      "Afghanistan:Yemen\n",
      "Standard Error: 0.10054440569449044\n",
      "z_score 0.43634182320427434\n",
      "p_value 0.331294370858\n",
      "\n",
      "Afghanistan:Somalia\n",
      "Standard Error: 0.1871807508145979\n",
      "z_score -0.6912045985744322\n",
      "p_value 0.244718487206\n",
      "\n",
      "Afghanistan:Pakistan\n",
      "Standard Error: 0.11288259126005473\n",
      "z_score -3.6698654064693788\n",
      "p_value 0.000121339105775\n",
      "\n",
      "Yemen:Somalia\n",
      "Standard Error: 0.1311606424123993\n",
      "z_score -1.3209139711030473\n",
      "p_value 0.0932650253823\n",
      "\n",
      "Yemen:Pakistan\n",
      "Standard Error: 0.10917268276636354\n",
      "z_score -4.196431143238104\n",
      "p_value 1.35576923961e-05\n",
      "\n",
      "Somalia:Pakistan\n",
      "Standard Error: 0.20328480387672884\n",
      "z_score -1.4014019518300296\n",
      "p_value 0.0805469544725\n"
     ]
    }
   ],
   "source": [
    "print(\"Afghanistan:Yemen\")\n",
    "paired_difference_test(afghanistan, yemen)\n",
    "\n",
    "print(\"\\nAfghanistan:Somalia\")\n",
    "paired_difference_test(afghanistan, somalia)\n",
    "\n",
    "print(\"\\nAfghanistan:Pakistan\")\n",
    "paired_difference_test(afghanistan, pakistan)\n",
    "\n",
    "print(\"\\nYemen:Somalia\")\n",
    "paired_difference_test(yemen, somalia)\n",
    "\n",
    "print(\"\\nYemen:Pakistan\")\n",
    "paired_difference_test(yemen, pakistan)\n",
    "\n",
    "print(\"\\nSomalia:Pakistan\")\n",
    "paired_difference_test(somalia, pakistan)\n"
   ]
  },
  {
   "cell_type": "code",
   "execution_count": 30,
   "metadata": {},
   "outputs": [
    {
     "data": {
      "text/html": [
       "<div>\n",
       "<style>\n",
       "    .dataframe thead tr:only-child th {\n",
       "        text-align: right;\n",
       "    }\n",
       "\n",
       "    .dataframe thead th {\n",
       "        text-align: left;\n",
       "    }\n",
       "\n",
       "    .dataframe tbody tr th {\n",
       "        vertical-align: top;\n",
       "    }\n",
       "</style>\n",
       "<table border=\"1\" class=\"dataframe\">\n",
       "  <thead>\n",
       "    <tr style=\"text-align: right;\">\n",
       "      <th></th>\n",
       "      <th>Maximum civilians killed</th>\n",
       "      <th>Maximum number of strikes</th>\n",
       "      <th>Maximum people injured</th>\n",
       "      <th>Maximum people killed</th>\n",
       "      <th>Maximum strikes</th>\n",
       "      <th>Minimum children killed</th>\n",
       "      <th>Minimum civilians killed</th>\n",
       "      <th>Minimum number of strikes</th>\n",
       "      <th>Minimum people injured</th>\n",
       "    </tr>\n",
       "  </thead>\n",
       "  <tbody>\n",
       "    <tr>\n",
       "      <th>0</th>\n",
       "      <td>0</td>\n",
       "      <td>0.0</td>\n",
       "      <td>0</td>\n",
       "      <td>0</td>\n",
       "      <td>1.0</td>\n",
       "      <td>0</td>\n",
       "      <td>0</td>\n",
       "      <td>0.0</td>\n",
       "      <td>0</td>\n",
       "    </tr>\n",
       "    <tr>\n",
       "      <th>1</th>\n",
       "      <td>0</td>\n",
       "      <td>0.0</td>\n",
       "      <td>0</td>\n",
       "      <td>18</td>\n",
       "      <td>1.0</td>\n",
       "      <td>0</td>\n",
       "      <td>0</td>\n",
       "      <td>0.0</td>\n",
       "      <td>0</td>\n",
       "    </tr>\n",
       "    <tr>\n",
       "      <th>2</th>\n",
       "      <td>0</td>\n",
       "      <td>0.0</td>\n",
       "      <td>0</td>\n",
       "      <td>7</td>\n",
       "      <td>1.0</td>\n",
       "      <td>0</td>\n",
       "      <td>0</td>\n",
       "      <td>0.0</td>\n",
       "      <td>0</td>\n",
       "    </tr>\n",
       "    <tr>\n",
       "      <th>3</th>\n",
       "      <td>0</td>\n",
       "      <td>0.0</td>\n",
       "      <td>0</td>\n",
       "      <td>0</td>\n",
       "      <td>1.0</td>\n",
       "      <td>0</td>\n",
       "      <td>0</td>\n",
       "      <td>0.0</td>\n",
       "      <td>0</td>\n",
       "    </tr>\n",
       "    <tr>\n",
       "      <th>4</th>\n",
       "      <td>0</td>\n",
       "      <td>0.0</td>\n",
       "      <td>0</td>\n",
       "      <td>3</td>\n",
       "      <td>1.0</td>\n",
       "      <td>0</td>\n",
       "      <td>0</td>\n",
       "      <td>0.0</td>\n",
       "      <td>0</td>\n",
       "    </tr>\n",
       "  </tbody>\n",
       "</table>\n",
       "</div>"
      ],
      "text/plain": [
       "   Maximum civilians killed  Maximum number of strikes  \\\n",
       "0                         0                        0.0   \n",
       "1                         0                        0.0   \n",
       "2                         0                        0.0   \n",
       "3                         0                        0.0   \n",
       "4                         0                        0.0   \n",
       "\n",
       "   Maximum people injured  Maximum people killed  Maximum strikes  \\\n",
       "0                       0                      0              1.0   \n",
       "1                       0                     18              1.0   \n",
       "2                       0                      7              1.0   \n",
       "3                       0                      0              1.0   \n",
       "4                       0                      3              1.0   \n",
       "\n",
       "   Minimum children killed  Minimum civilians killed  \\\n",
       "0                        0                         0   \n",
       "1                        0                         0   \n",
       "2                        0                         0   \n",
       "3                        0                         0   \n",
       "4                        0                         0   \n",
       "\n",
       "   Minimum number of strikes  Minimum people injured  \n",
       "0                        0.0                       0  \n",
       "1                        0.0                       0  \n",
       "2                        0.0                       0  \n",
       "3                        0.0                       0  \n",
       "4                        0.0                       0  "
      ]
     },
     "execution_count": 30,
     "metadata": {},
     "output_type": "execute_result"
    }
   ],
   "source": [
    "master_frame_updated.head(5)"
   ]
  },
  {
   "cell_type": "markdown",
   "metadata": {
    "collapsed": true
   },
   "source": [
    "PCA & KMeans"
   ]
  },
  {
   "cell_type": "code",
   "execution_count": 32,
   "metadata": {},
   "outputs": [
    {
     "name": "stdout",
     "output_type": "stream",
     "text": [
      "[[-0.74045084 -0.37146051]\n",
      " [-0.2888273  -0.39661829]\n",
      " [-0.56481946 -0.38124409]\n",
      " ..., \n",
      " [-0.4711766  -0.39465997]\n",
      " [-0.44516783 -0.39576421]\n",
      " [-0.66430209 -0.37393155]]\n"
     ]
    },
    {
     "data": {
      "text/plain": [
       "KMeans(algorithm='auto', copy_x=True, init='k-means++', max_iter=300,\n",
       "    n_clusters=3, n_init=10, n_jobs=1, precompute_distances='auto',\n",
       "    random_state=None, tol=0.0001, verbose=0)"
      ]
     },
     "execution_count": 32,
     "metadata": {},
     "output_type": "execute_result"
    }
   ],
   "source": [
    "scaler = StandardScaler()\n",
    "\n",
    "pca = PCA(n_components = 2)\n",
    "master_frame_updated = master_frame[master_frame.columns[8:17]]\n",
    "\n",
    "#master_frame_updated = master_frame_updated.drop('Unnamed: 0', 1, inplace=True)\n",
    "#master_frame_updated.convert_objects(convert_numeric=True).dtypes \n",
    "#print(master_frame_updated.head(3))\n",
    "master_frame_updated = master_frame_updated.fillna(0)\n",
    "scaled_frame = scaler.fit_transform(master_frame_updated)\n",
    "\n",
    "pca_features = pca.fit_transform(scaled_frame)\n",
    "print(pca_features)\n",
    "\n",
    "# Assign 0th column of pca_features: xs\n",
    "#xs = pca_features[:,0]\n",
    "\n",
    "# Assign 1st column of pca_features: ys\n",
    "#ys = pca_features[:,1]\n",
    "\n",
    "# Scatter plot xs vs ys\n",
    "#plt.scatter(xs, ys)\n",
    "#plt.axis('equal')\n",
    "#plt.show()\n",
    "\n",
    "# Create scaler: scaler\n",
    "#scaler = StandardScaler()\n",
    "\n",
    "# Create KMeans instance: kmeans\n",
    "kmeans = KMeans(n_clusters=3)\n",
    "kmeans.fit(scaled_frame)\n",
    "\n",
    "\n",
    "# Create pipeline: pipeline\n",
    "#pipeline = make_pipeline(scaler,kmeans)\n",
    "\n",
    "#pipeline.fit()\n"
   ]
  },
  {
   "cell_type": "code",
   "execution_count": 34,
   "metadata": {
    "collapsed": true
   },
   "outputs": [],
   "source": [
    "clusters = kmeans.labels_"
   ]
  },
  {
   "cell_type": "code",
   "execution_count": 1,
   "metadata": {},
   "outputs": [
    {
     "ename": "NameError",
     "evalue": "name 'plt' is not defined",
     "output_type": "error",
     "traceback": [
      "\u001b[0;31m---------------------------------------------------------------------------\u001b[0m",
      "\u001b[0;31mNameError\u001b[0m                                 Traceback (most recent call last)",
      "\u001b[0;32m<ipython-input-1-347c2770fa0e>\u001b[0m in \u001b[0;36m<module>\u001b[0;34m()\u001b[0m\n\u001b[0;32m----> 1\u001b[0;31m \u001b[0mfig\u001b[0m\u001b[0;34m,\u001b[0m \u001b[0;34m(\u001b[0m\u001b[0max1\u001b[0m\u001b[0;34m)\u001b[0m \u001b[0;34m=\u001b[0m \u001b[0mplt\u001b[0m\u001b[0;34m.\u001b[0m\u001b[0msubplots\u001b[0m\u001b[0;34m(\u001b[0m\u001b[0;36m1\u001b[0m\u001b[0;34m,\u001b[0m \u001b[0;36m1\u001b[0m\u001b[0;34m,\u001b[0m \u001b[0mfigsize\u001b[0m\u001b[0;34m=\u001b[0m\u001b[0;34m(\u001b[0m\u001b[0;36m8\u001b[0m\u001b[0;34m,\u001b[0m \u001b[0;36m4\u001b[0m\u001b[0;34m)\u001b[0m\u001b[0;34m)\u001b[0m\u001b[0;34m\u001b[0m\u001b[0m\n\u001b[0m\u001b[1;32m      2\u001b[0m \u001b[0mfig\u001b[0m\u001b[0;34m.\u001b[0m\u001b[0msuptitle\u001b[0m\u001b[0;34m(\u001b[0m\u001b[0;34m'Visualizing drone strike clusters'\u001b[0m\u001b[0;34m)\u001b[0m\u001b[0;34m\u001b[0m\u001b[0m\n\u001b[1;32m      3\u001b[0m \u001b[0mfig\u001b[0m\u001b[0;34m.\u001b[0m\u001b[0msubplots_adjust\u001b[0m\u001b[0;34m(\u001b[0m\u001b[0mtop\u001b[0m\u001b[0;34m=\u001b[0m\u001b[0;36m0.85\u001b[0m\u001b[0;34m,\u001b[0m \u001b[0mwspace\u001b[0m\u001b[0;34m=\u001b[0m\u001b[0;36m0.5\u001b[0m\u001b[0;34m)\u001b[0m\u001b[0;34m\u001b[0m\u001b[0m\n\u001b[1;32m      4\u001b[0m \u001b[0max1\u001b[0m\u001b[0;34m.\u001b[0m\u001b[0mset_title\u001b[0m\u001b[0;34m(\u001b[0m\u001b[0;34m'Actual Labels'\u001b[0m\u001b[0;34m)\u001b[0m\u001b[0;34m\u001b[0m\u001b[0m\n\u001b[1;32m      5\u001b[0m \u001b[0;31m#ax2.set_title('Clustered Labels')\u001b[0m\u001b[0;34m\u001b[0m\u001b[0;34m\u001b[0m\u001b[0m\n",
      "\u001b[0;31mNameError\u001b[0m: name 'plt' is not defined"
     ]
    }
   ],
   "source": [
    "fig, (ax1) = plt.subplots(1, 1, figsize=(8, 4))\n",
    "fig.suptitle('Visualizing drone strike clusters')\n",
    "fig.subplots_adjust(top=0.85, wspace=0.5)\n",
    "ax1.set_title('Actual Labels')\n",
    "#ax2.set_title('Clustered Labels')\n",
    "y = clusters\n",
    "bc_pca = pca_features\n",
    "for i in range(len(y)):\n",
    "    if y[i] == 0:\n",
    "        c1 = ax1.scatter(bc_pca[i,0], bc_pca[i,1],c='g', marker='.')\n",
    "    if y[i] == 1:\n",
    "        c2 = ax1.scatter(bc_pca[i,0], bc_pca[i,1],c='r', marker='.')\n",
    "    if y[i] == 2:\n",
    "        c2 = ax1.scatter(bc_pca[i,0], bc_pca[i,1],c='b', marker='.')\n",
    "        "
   ]
  },
  {
   "cell_type": "code",
   "execution_count": 3,
   "metadata": {
    "collapsed": true
   },
   "outputs": [],
   "source": [
    "import os\n",
    "import os.path as op\n",
    "from time import time\n",
    "import dask.dataframe as ddf\n",
    "import dask.array as da\n",
    "from distributed import Client\n",
    "\n",
    "\n",
    "def make_categorical_data(n_samples=int(1e7), n_features=10):\n",
    "    \"\"\"Generate some random categorical data\n",
    "    The default parameters should generate around 1GB of random integer data\n",
    "    with increasing cardinality along with a normally distributed real valued\n",
    "    target variable.\n",
    "    \"\"\"\n",
    "    feature_names = ['f_%03d' % i for i in range(n_features)]\n",
    "    features_series = [\n",
    "        da.random.randint(low=0, high=(i + 1) * 10, size=n_samples,\n",
    "                          chunks=n_samples // 10)\n",
    "        for i in range(n_features)\n",
    "    ]\n",
    "    features_series = [\n",
    "        ddf.from_dask_array(col_data, columns=[feature_name])\n",
    "        for col_data, feature_name in zip(features_series, feature_names)\n",
    "    ]\n",
    "    target = da.random.normal(loc=0, scale=1, size=n_samples,\n",
    "                              chunks=n_samples // 10)\n",
    "    target = ddf.from_dask_array(target, columns=['target'])"
   ]
  },
  {
   "cell_type": "code",
   "execution_count": null,
   "metadata": {
    "collapsed": true
   },
   "outputs": [],
   "source": []
  },
  {
   "cell_type": "code",
   "execution_count": null,
   "metadata": {
    "collapsed": true
   },
   "outputs": [],
   "source": []
  },
  {
   "cell_type": "code",
   "execution_count": null,
   "metadata": {
    "collapsed": true
   },
   "outputs": [],
   "source": []
  },
  {
   "cell_type": "code",
   "execution_count": null,
   "metadata": {
    "collapsed": true
   },
   "outputs": [],
   "source": []
  },
  {
   "cell_type": "code",
   "execution_count": null,
   "metadata": {
    "collapsed": true
   },
   "outputs": [],
   "source": []
  },
  {
   "cell_type": "code",
   "execution_count": null,
   "metadata": {
    "collapsed": true
   },
   "outputs": [],
   "source": []
  },
  {
   "cell_type": "code",
   "execution_count": null,
   "metadata": {
    "collapsed": true
   },
   "outputs": [],
   "source": []
  }
 ],
 "metadata": {
  "kernelspec": {
   "display_name": "Python 3",
   "language": "python",
   "name": "python3"
  },
  "language_info": {
   "codemirror_mode": {
    "name": "ipython",
    "version": 3
   },
   "file_extension": ".py",
   "mimetype": "text/x-python",
   "name": "python",
   "nbconvert_exporter": "python",
   "pygments_lexer": "ipython3",
   "version": "3.6.3"
  }
 },
 "nbformat": 4,
 "nbformat_minor": 1
}
